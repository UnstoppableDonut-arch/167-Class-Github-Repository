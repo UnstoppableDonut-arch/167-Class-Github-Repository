{
  "nbformat": 4,
  "nbformat_minor": 0,
  "metadata": {
    "colab": {
      "provenance": [],
      "include_colab_link": true
    },
    "kernelspec": {
      "name": "python3",
      "display_name": "Python 3"
    },
    "language_info": {
      "name": "python"
    }
  },
  "cells": [
    {
      "cell_type": "markdown",
      "metadata": {
        "id": "view-in-github",
        "colab_type": "text"
      },
      "source": [
        "<a href=\"https://colab.research.google.com/github/UnstoppableDonut-arch/167-Class-Github-Repository/blob/main/Copy_of_10_2_Convolution_for_MNIST_1D.ipynb\" target=\"_parent\"><img src=\"https://colab.research.google.com/assets/colab-badge.svg\" alt=\"Open In Colab\"/></a>"
      ]
    },
    {
      "cell_type": "markdown",
      "source": [
        "# **Notebook 10.2: Convolution for MNIST-1D**\n",
        "\n",
        "This notebook investigates a 1D convolutional network for MNIST-1D as in figure 10.7 and 10.8a.\n",
        "\n",
        "Work through the cells below, running each cell in turn. In various places you will see the words \"TODO\". Follow the instructions at these places and make predictions about what is going to happen or write code to complete the functions.\n",
        "\n",
        "Contact me at udlbookmail@gmail.com if you find any mistakes or have any suggestions.\n",
        "\n"
      ],
      "metadata": {
        "id": "t9vk9Elugvmi"
      }
    },
    {
      "cell_type": "code",
      "source": [
        "# Run this if you're in a Colab to install MNIST 1D repository\n",
        "!pip install git+https://github.com/greydanus/mnist1d"
      ],
      "metadata": {
        "id": "D5yLObtZCi9J",
        "colab": {
          "base_uri": "https://localhost:8080/"
        },
        "outputId": "e5b93756-d687-48bd-80f6-dc7e87e363b4"
      },
      "execution_count": 13,
      "outputs": [
        {
          "output_type": "stream",
          "name": "stdout",
          "text": [
            "Collecting git+https://github.com/greydanus/mnist1d\n",
            "  Cloning https://github.com/greydanus/mnist1d to /tmp/pip-req-build-3g2gm8k2\n",
            "  Running command git clone --filter=blob:none --quiet https://github.com/greydanus/mnist1d /tmp/pip-req-build-3g2gm8k2\n",
            "  Resolved https://github.com/greydanus/mnist1d to commit 7878d96082abd200c546a07a4101fa90b30fdf7e\n",
            "  Installing build dependencies ... \u001b[?25l\u001b[?25hdone\n",
            "  Getting requirements to build wheel ... \u001b[?25l\u001b[?25hdone\n",
            "  Preparing metadata (pyproject.toml) ... \u001b[?25l\u001b[?25hdone\n",
            "Requirement already satisfied: requests in /usr/local/lib/python3.12/dist-packages (from mnist1d==0.0.2.post16) (2.32.4)\n",
            "Requirement already satisfied: numpy in /usr/local/lib/python3.12/dist-packages (from mnist1d==0.0.2.post16) (2.0.2)\n",
            "Requirement already satisfied: matplotlib in /usr/local/lib/python3.12/dist-packages (from mnist1d==0.0.2.post16) (3.10.0)\n",
            "Requirement already satisfied: scipy in /usr/local/lib/python3.12/dist-packages (from mnist1d==0.0.2.post16) (1.16.2)\n",
            "Requirement already satisfied: contourpy>=1.0.1 in /usr/local/lib/python3.12/dist-packages (from matplotlib->mnist1d==0.0.2.post16) (1.3.3)\n",
            "Requirement already satisfied: cycler>=0.10 in /usr/local/lib/python3.12/dist-packages (from matplotlib->mnist1d==0.0.2.post16) (0.12.1)\n",
            "Requirement already satisfied: fonttools>=4.22.0 in /usr/local/lib/python3.12/dist-packages (from matplotlib->mnist1d==0.0.2.post16) (4.60.1)\n",
            "Requirement already satisfied: kiwisolver>=1.3.1 in /usr/local/lib/python3.12/dist-packages (from matplotlib->mnist1d==0.0.2.post16) (1.4.9)\n",
            "Requirement already satisfied: packaging>=20.0 in /usr/local/lib/python3.12/dist-packages (from matplotlib->mnist1d==0.0.2.post16) (25.0)\n",
            "Requirement already satisfied: pillow>=8 in /usr/local/lib/python3.12/dist-packages (from matplotlib->mnist1d==0.0.2.post16) (11.3.0)\n",
            "Requirement already satisfied: pyparsing>=2.3.1 in /usr/local/lib/python3.12/dist-packages (from matplotlib->mnist1d==0.0.2.post16) (3.2.5)\n",
            "Requirement already satisfied: python-dateutil>=2.7 in /usr/local/lib/python3.12/dist-packages (from matplotlib->mnist1d==0.0.2.post16) (2.9.0.post0)\n",
            "Requirement already satisfied: charset_normalizer<4,>=2 in /usr/local/lib/python3.12/dist-packages (from requests->mnist1d==0.0.2.post16) (3.4.4)\n",
            "Requirement already satisfied: idna<4,>=2.5 in /usr/local/lib/python3.12/dist-packages (from requests->mnist1d==0.0.2.post16) (3.11)\n",
            "Requirement already satisfied: urllib3<3,>=1.21.1 in /usr/local/lib/python3.12/dist-packages (from requests->mnist1d==0.0.2.post16) (2.5.0)\n",
            "Requirement already satisfied: certifi>=2017.4.17 in /usr/local/lib/python3.12/dist-packages (from requests->mnist1d==0.0.2.post16) (2025.10.5)\n",
            "Requirement already satisfied: six>=1.5 in /usr/local/lib/python3.12/dist-packages (from python-dateutil>=2.7->matplotlib->mnist1d==0.0.2.post16) (1.17.0)\n"
          ]
        }
      ]
    },
    {
      "cell_type": "code",
      "source": [
        "import numpy as np\n",
        "import os\n",
        "import torch, torch.nn as nn\n",
        "from torch.utils.data import TensorDataset, DataLoader\n",
        "from torch.optim.lr_scheduler import StepLR\n",
        "import matplotlib.pyplot as plt\n",
        "import mnist1d\n",
        "import random"
      ],
      "metadata": {
        "id": "YrXWAH7sUWvU"
      },
      "execution_count": 14,
      "outputs": []
    },
    {
      "cell_type": "code",
      "source": [
        "args = mnist1d.data.get_dataset_args()\n",
        "data = mnist1d.data.get_dataset(args, path='./mnist1d_data.pkl', download=False, regenerate=False)\n",
        "\n",
        "# The training and test input and outputs are in\n",
        "# data['x'], data['y'], data['x_test'], and data['y_test']\n",
        "print(\"Examples in training set: {}\".format(len(data['y'])))\n",
        "print(\"Examples in test set: {}\".format(len(data['y_test'])))\n",
        "print(\"Length of each example: {}\".format(data['x'].shape[-1]))"
      ],
      "metadata": {
        "id": "twI72ZCrCt5z",
        "colab": {
          "base_uri": "https://localhost:8080/"
        },
        "outputId": "14ab3a60-6210-4622-8999-e964ac71fa26"
      },
      "execution_count": 15,
      "outputs": [
        {
          "output_type": "stream",
          "name": "stdout",
          "text": [
            "Successfully loaded data from ./mnist1d_data.pkl\n",
            "Examples in training set: 4000\n",
            "Examples in test set: 1000\n",
            "Length of each example: 40\n"
          ]
        }
      ]
    },
    {
      "cell_type": "code",
      "source": [
        "# Load in the data\n",
        "train_data_x = data['x'].transpose()\n",
        "train_data_y = data['y']\n",
        "val_data_x = data['x_test'].transpose()\n",
        "val_data_y = data['y_test']\n",
        "# Print out sizes\n",
        "print(\"Train data: %d examples (columns), each of which has %d dimensions (rows)\"%((train_data_x.shape[1],train_data_x.shape[0])))\n",
        "print(\"Validation data: %d examples (columns), each of which has %d dimensions (rows)\"%((val_data_x.shape[1],val_data_x.shape[0])))"
      ],
      "metadata": {
        "id": "8bKADvLHbiV5",
        "colab": {
          "base_uri": "https://localhost:8080/"
        },
        "outputId": "79063a95-b37d-4ece-c570-21925a0cb402"
      },
      "execution_count": 16,
      "outputs": [
        {
          "output_type": "stream",
          "name": "stdout",
          "text": [
            "Train data: 4000 examples (columns), each of which has 40 dimensions (rows)\n",
            "Validation data: 1000 examples (columns), each of which has 40 dimensions (rows)\n"
          ]
        }
      ]
    },
    {
      "cell_type": "markdown",
      "source": [
        "Define the network"
      ],
      "metadata": {
        "id": "_sFvRDGrl4qe"
      }
    },
    {
      "cell_type": "code",
      "source": [
        "# There are 40 input dimensions and 10 output dimensions for this data\n",
        "# The inputs correspond to the 40 offsets in the MNIST1D template.\n",
        "D_i = 40\n",
        "# The outputs correspond to the 10 digits\n",
        "D_o = 10\n",
        "\n",
        "\n",
        "# TODO Create a model with the following layers\n",
        "# 1. Convolutional layer, (input=length 40 and 1 channel, kernel size 3, stride 2, padding=\"valid\", 15 output channels )\n",
        "# 2. ReLU\n",
        "# 3. Convolutional layer, (input=length 19 and 15 channels, kernel size 3, stride 2, padding=\"valid\", 15 output channels )\n",
        "# 4. ReLU\n",
        "# 5. Convolutional layer, (input=length 9 and 15 channels, kernel size 3, stride 2, padding=\"valid\", 15 output channels)\n",
        "# 6. ReLU\n",
        "# 7. Flatten (converts 4x15) to length 60\n",
        "# 8. Linear layer (input size = 60, output size = 10)\n",
        "# References:\n",
        "# https://pytorch.org/docs/1.13/generated/torch.nn.Conv1d.html?highlight=conv1d#torch.nn.Conv1d\n",
        "# https://pytorch.org/docs/stable/generated/torch.nn.Flatten.html\n",
        "# https://pytorch.org/docs/1.13/generated/torch.nn.Linear.html?highlight=linear#torch.nn.Linear\n",
        "\n",
        "# NOTE THAT THE CONVOLUTIONAL LAYERS NEED TO TAKE THE NUMBER OF INPUT CHANNELS AS A PARAMETER\n",
        "# AND NOT THE INPUT SIZE.\n",
        "\n",
        "# Replace the following function:\n",
        "model = nn.Sequential(\n",
        "    nn.Conv1d(in_channels=1, out_channels=15, kernel_size=3, stride=2, padding=0),\n",
        "    nn.ReLU(),\n",
        "    nn.Conv1d(in_channels=15, out_channels=15, kernel_size=3, stride=2, padding=0),\n",
        "    nn.ReLU(),\n",
        "    nn.Conv1d(in_channels=15, out_channels=15, kernel_size=3, stride=2, padding=0),\n",
        "    nn.ReLU(),\n",
        "    nn.Flatten(),\n",
        "    nn.Linear(60, 10)  # Adjust input size to match the flattened size\n",
        ")\n",
        "\n",
        "\n"
      ],
      "metadata": {
        "id": "FslroPJJffrh"
      },
      "execution_count": 17,
      "outputs": []
    },
    {
      "cell_type": "code",
      "source": [
        "print(model)"
      ],
      "metadata": {
        "colab": {
          "base_uri": "https://localhost:8080/"
        },
        "id": "jG1xTW1Zu_Gq",
        "outputId": "8a3099b3-8f7e-4d58-a536-4b9de0a2c356"
      },
      "execution_count": 18,
      "outputs": [
        {
          "output_type": "stream",
          "name": "stdout",
          "text": [
            "Sequential(\n",
            "  (0): Conv1d(1, 15, kernel_size=(3,), stride=(2,))\n",
            "  (1): ReLU()\n",
            "  (2): Conv1d(15, 15, kernel_size=(3,), stride=(2,))\n",
            "  (3): ReLU()\n",
            "  (4): Conv1d(15, 15, kernel_size=(3,), stride=(2,))\n",
            "  (5): ReLU()\n",
            "  (6): Flatten(start_dim=1, end_dim=-1)\n",
            "  (7): Linear(in_features=60, out_features=10, bias=True)\n",
            ")\n"
          ]
        }
      ]
    },
    {
      "cell_type": "code",
      "source": [
        "# He initialization of weights\n",
        "def weights_init(layer_in):\n",
        "  if isinstance(layer_in, nn.Linear):\n",
        "    nn.init.kaiming_uniform_(layer_in.weight)\n",
        "    layer_in.bias.data.fill_(0.0)"
      ],
      "metadata": {
        "id": "YgLaex1pfhqz"
      },
      "execution_count": 19,
      "outputs": []
    },
    {
      "cell_type": "code",
      "source": [
        "# choose cross entropy loss function (equation 5.24 in the loss notes)\n",
        "loss_function = nn.CrossEntropyLoss()\n",
        "# construct SGD optimizer and initialize learning rate and momentum\n",
        "optimizer = torch.optim.SGD(model.parameters(), lr = 0.05, momentum=0.9)\n",
        "# object that decreases learning rate by half every 20 epochs\n",
        "scheduler = StepLR(optimizer, step_size=20, gamma=0.5)\n",
        "# create 100 dummy data points and store in data loader class\n",
        "x_train = torch.tensor(train_data_x.transpose().astype('float32'))\n",
        "y_train = torch.tensor(train_data_y.astype('long')).long()\n",
        "x_val= torch.tensor(val_data_x.transpose().astype('float32'))\n",
        "y_val = torch.tensor(val_data_y.astype('long')).long()\n",
        "\n",
        "# load the data into a class that creates the batches\n",
        "data_loader = DataLoader(TensorDataset(x_train,y_train), batch_size=100, shuffle=True, worker_init_fn=np.random.seed(1))\n",
        "\n",
        "# Initialize model weights\n",
        "model.apply(weights_init)\n",
        "\n",
        "# loop over the dataset n_epoch times\n",
        "n_epoch = 100\n",
        "# store the loss and the % correct at each epoch\n",
        "losses_train = np.zeros((n_epoch))\n",
        "errors_train = np.zeros((n_epoch))\n",
        "losses_val = np.zeros((n_epoch))\n",
        "errors_val = np.zeros((n_epoch))\n",
        "\n",
        "for epoch in range(n_epoch):\n",
        "  # loop over batches\n",
        "  for i, data in enumerate(data_loader):\n",
        "    # retrieve inputs and labels for this batch\n",
        "    x_batch, y_batch = data\n",
        "    # zero the parameter gradients\n",
        "    optimizer.zero_grad()\n",
        "    # forward pass -- calculate model output\n",
        "    pred = model(x_batch[:,None,:])\n",
        "    # compute the loss\n",
        "    loss = loss_function(pred, y_batch)\n",
        "    # backward pass\n",
        "    loss.backward()\n",
        "    # SGD update\n",
        "    optimizer.step()\n",
        "\n",
        "  # Run whole dataset to get statistics -- normally wouldn't do this\n",
        "  pred_train = model(x_train[:,None,:])\n",
        "  pred_val = model(x_val[:,None,:])\n",
        "  _, predicted_train_class = torch.max(pred_train.data, 1)\n",
        "  _, predicted_val_class = torch.max(pred_val.data, 1)\n",
        "  errors_train[epoch] = 100 - 100 * (predicted_train_class == y_train).float().sum() / len(y_train)\n",
        "  errors_val[epoch]= 100 - 100 * (predicted_val_class == y_val).float().sum() / len(y_val)\n",
        "  losses_train[epoch] = loss_function(pred_train, y_train).item()\n",
        "  losses_val[epoch]= loss_function(pred_val, y_val).item()\n",
        "  print(f'Epoch {epoch:5d}, train loss {losses_train[epoch]:.6f}, train error {errors_train[epoch]:3.2f},  val loss {losses_val[epoch]:.6f}, percent error {errors_val[epoch]:3.2f}')\n",
        "\n",
        "  # tell scheduler to consider updating learning rate\n",
        "  scheduler.step()\n",
        "\n",
        "# Plot the results\n",
        "fig, ax = plt.subplots()\n",
        "ax.plot(errors_train,'r-',label='train')\n",
        "ax.plot(errors_val,'b-',label='validation')\n",
        "ax.set_ylim(0,100); ax.set_xlim(0,n_epoch)\n",
        "ax.set_xlabel('Epoch'); ax.set_ylabel('Error')\n",
        "ax.set_title('Part I: Validation Result %3.2f'%(errors_val[-1]))\n",
        "ax.legend()\n",
        "plt.show()"
      ],
      "metadata": {
        "id": "NYw8I_3mmX5c",
        "colab": {
          "base_uri": "https://localhost:8080/",
          "height": 1000
        },
        "outputId": "7e843960-75ca-42a6-f1ea-746c52a60bde"
      },
      "execution_count": 20,
      "outputs": [
        {
          "output_type": "stream",
          "name": "stdout",
          "text": [
            "Epoch     0, train loss 1.897375, train error 75.72,  val loss 1.923798, percent error 77.00\n",
            "Epoch     1, train loss 1.562692, train error 63.08,  val loss 1.588460, percent error 66.70\n",
            "Epoch     2, train loss 1.403493, train error 57.00,  val loss 1.432661, percent error 60.50\n",
            "Epoch     3, train loss 1.342584, train error 56.72,  val loss 1.360498, percent error 58.30\n",
            "Epoch     4, train loss 1.262277, train error 52.90,  val loss 1.281311, percent error 56.10\n",
            "Epoch     5, train loss 1.163456, train error 49.38,  val loss 1.180017, percent error 51.00\n",
            "Epoch     6, train loss 1.188089, train error 48.80,  val loss 1.229329, percent error 52.50\n",
            "Epoch     7, train loss 0.984014, train error 39.55,  val loss 1.024736, percent error 42.30\n",
            "Epoch     8, train loss 0.898378, train error 35.00,  val loss 0.951855, percent error 37.60\n",
            "Epoch     9, train loss 0.841857, train error 32.88,  val loss 0.894645, percent error 36.30\n",
            "Epoch    10, train loss 0.766649, train error 29.20,  val loss 0.828878, percent error 32.90\n",
            "Epoch    11, train loss 0.668977, train error 25.12,  val loss 0.754104, percent error 28.50\n",
            "Epoch    12, train loss 0.595303, train error 22.68,  val loss 0.695842, percent error 28.50\n",
            "Epoch    13, train loss 0.554097, train error 20.85,  val loss 0.639986, percent error 24.00\n",
            "Epoch    14, train loss 0.515190, train error 19.18,  val loss 0.623654, percent error 24.10\n",
            "Epoch    15, train loss 0.430603, train error 16.38,  val loss 0.573377, percent error 21.90\n",
            "Epoch    16, train loss 0.441694, train error 16.43,  val loss 0.570494, percent error 21.00\n",
            "Epoch    17, train loss 0.421661, train error 16.07,  val loss 0.591342, percent error 21.40\n",
            "Epoch    18, train loss 0.390721, train error 14.55,  val loss 0.512289, percent error 18.80\n",
            "Epoch    19, train loss 0.367383, train error 12.40,  val loss 0.546960, percent error 17.50\n",
            "Epoch    20, train loss 0.276251, train error 9.57,  val loss 0.455773, percent error 14.90\n",
            "Epoch    21, train loss 0.227571, train error 7.45,  val loss 0.395885, percent error 13.30\n",
            "Epoch    22, train loss 0.220781, train error 7.55,  val loss 0.395424, percent error 13.20\n",
            "Epoch    23, train loss 0.214198, train error 7.32,  val loss 0.371530, percent error 12.50\n",
            "Epoch    24, train loss 0.195330, train error 6.40,  val loss 0.381993, percent error 12.60\n",
            "Epoch    25, train loss 0.185759, train error 6.47,  val loss 0.376989, percent error 12.90\n",
            "Epoch    26, train loss 0.181246, train error 5.82,  val loss 0.370148, percent error 11.60\n",
            "Epoch    27, train loss 0.163108, train error 5.25,  val loss 0.369170, percent error 11.70\n",
            "Epoch    28, train loss 0.171783, train error 5.90,  val loss 0.405484, percent error 13.00\n",
            "Epoch    29, train loss 0.151161, train error 5.05,  val loss 0.371897, percent error 11.70\n",
            "Epoch    30, train loss 0.143611, train error 4.78,  val loss 0.358887, percent error 11.80\n",
            "Epoch    31, train loss 0.141077, train error 4.90,  val loss 0.379694, percent error 11.80\n",
            "Epoch    32, train loss 0.169447, train error 5.78,  val loss 0.384871, percent error 12.00\n",
            "Epoch    33, train loss 0.137711, train error 4.70,  val loss 0.370294, percent error 11.60\n",
            "Epoch    34, train loss 0.120826, train error 3.93,  val loss 0.358925, percent error 11.20\n",
            "Epoch    35, train loss 0.119732, train error 4.03,  val loss 0.360247, percent error 11.20\n",
            "Epoch    36, train loss 0.112904, train error 3.60,  val loss 0.350004, percent error 11.10\n",
            "Epoch    37, train loss 0.103346, train error 3.28,  val loss 0.358073, percent error 10.20\n",
            "Epoch    38, train loss 0.099284, train error 2.88,  val loss 0.354339, percent error 10.70\n",
            "Epoch    39, train loss 0.112595, train error 3.97,  val loss 0.388306, percent error 11.80\n",
            "Epoch    40, train loss 0.089802, train error 2.70,  val loss 0.373818, percent error 10.40\n",
            "Epoch    41, train loss 0.086584, train error 2.53,  val loss 0.380131, percent error 10.80\n",
            "Epoch    42, train loss 0.081509, train error 2.43,  val loss 0.360701, percent error 10.20\n",
            "Epoch    43, train loss 0.081595, train error 2.30,  val loss 0.359069, percent error 9.90\n",
            "Epoch    44, train loss 0.078629, train error 2.12,  val loss 0.353082, percent error 10.00\n",
            "Epoch    45, train loss 0.078318, train error 2.12,  val loss 0.354029, percent error 10.20\n",
            "Epoch    46, train loss 0.078617, train error 2.25,  val loss 0.379087, percent error 10.40\n",
            "Epoch    47, train loss 0.073779, train error 1.88,  val loss 0.375966, percent error 10.50\n",
            "Epoch    48, train loss 0.069493, train error 1.68,  val loss 0.362812, percent error 10.40\n",
            "Epoch    49, train loss 0.066670, train error 1.55,  val loss 0.372315, percent error 9.80\n",
            "Epoch    50, train loss 0.067244, train error 1.57,  val loss 0.364948, percent error 10.10\n",
            "Epoch    51, train loss 0.067362, train error 1.60,  val loss 0.363031, percent error 10.30\n",
            "Epoch    52, train loss 0.074143, train error 2.12,  val loss 0.366505, percent error 10.10\n",
            "Epoch    53, train loss 0.063191, train error 1.40,  val loss 0.388395, percent error 9.80\n",
            "Epoch    54, train loss 0.064855, train error 1.68,  val loss 0.380812, percent error 10.60\n",
            "Epoch    55, train loss 0.059896, train error 1.30,  val loss 0.380517, percent error 10.00\n",
            "Epoch    56, train loss 0.060133, train error 1.50,  val loss 0.384860, percent error 10.30\n",
            "Epoch    57, train loss 0.057206, train error 1.15,  val loss 0.386060, percent error 10.20\n",
            "Epoch    58, train loss 0.054882, train error 1.22,  val loss 0.374291, percent error 10.30\n",
            "Epoch    59, train loss 0.055705, train error 1.20,  val loss 0.385509, percent error 9.90\n",
            "Epoch    60, train loss 0.051572, train error 0.97,  val loss 0.379742, percent error 9.70\n",
            "Epoch    61, train loss 0.052830, train error 1.05,  val loss 0.398148, percent error 9.70\n",
            "Epoch    62, train loss 0.052480, train error 1.32,  val loss 0.387444, percent error 10.00\n",
            "Epoch    63, train loss 0.049459, train error 0.88,  val loss 0.385004, percent error 10.60\n",
            "Epoch    64, train loss 0.048854, train error 0.82,  val loss 0.382093, percent error 9.80\n",
            "Epoch    65, train loss 0.048131, train error 0.80,  val loss 0.384515, percent error 9.60\n",
            "Epoch    66, train loss 0.047166, train error 0.78,  val loss 0.385344, percent error 9.50\n",
            "Epoch    67, train loss 0.048966, train error 0.93,  val loss 0.392873, percent error 10.00\n",
            "Epoch    68, train loss 0.045632, train error 0.85,  val loss 0.391742, percent error 10.00\n",
            "Epoch    69, train loss 0.046288, train error 0.88,  val loss 0.387078, percent error 9.90\n",
            "Epoch    70, train loss 0.045272, train error 0.80,  val loss 0.387649, percent error 10.00\n",
            "Epoch    71, train loss 0.045643, train error 0.75,  val loss 0.382275, percent error 9.80\n",
            "Epoch    72, train loss 0.044159, train error 0.75,  val loss 0.393089, percent error 9.90\n",
            "Epoch    73, train loss 0.046029, train error 0.93,  val loss 0.400899, percent error 9.60\n",
            "Epoch    74, train loss 0.043642, train error 0.78,  val loss 0.392559, percent error 10.00\n",
            "Epoch    75, train loss 0.043710, train error 0.68,  val loss 0.399899, percent error 9.70\n",
            "Epoch    76, train loss 0.042890, train error 0.80,  val loss 0.403781, percent error 9.80\n",
            "Epoch    77, train loss 0.042816, train error 0.75,  val loss 0.406987, percent error 10.00\n",
            "Epoch    78, train loss 0.041275, train error 0.65,  val loss 0.396349, percent error 9.60\n",
            "Epoch    79, train loss 0.041704, train error 0.70,  val loss 0.407032, percent error 10.00\n",
            "Epoch    80, train loss 0.040833, train error 0.70,  val loss 0.409390, percent error 9.80\n",
            "Epoch    81, train loss 0.040180, train error 0.70,  val loss 0.402629, percent error 9.80\n",
            "Epoch    82, train loss 0.039653, train error 0.57,  val loss 0.402959, percent error 9.90\n",
            "Epoch    83, train loss 0.039313, train error 0.65,  val loss 0.407078, percent error 9.70\n",
            "Epoch    84, train loss 0.040492, train error 0.70,  val loss 0.408315, percent error 9.70\n",
            "Epoch    85, train loss 0.039232, train error 0.60,  val loss 0.398167, percent error 10.10\n",
            "Epoch    86, train loss 0.038636, train error 0.57,  val loss 0.407831, percent error 9.90\n",
            "Epoch    87, train loss 0.038336, train error 0.55,  val loss 0.404186, percent error 9.90\n",
            "Epoch    88, train loss 0.038642, train error 0.57,  val loss 0.409152, percent error 9.60\n",
            "Epoch    89, train loss 0.038674, train error 0.60,  val loss 0.400228, percent error 10.30\n",
            "Epoch    90, train loss 0.038996, train error 0.65,  val loss 0.408705, percent error 10.00\n",
            "Epoch    91, train loss 0.037748, train error 0.55,  val loss 0.405117, percent error 9.90\n",
            "Epoch    92, train loss 0.037969, train error 0.60,  val loss 0.412301, percent error 10.10\n",
            "Epoch    93, train loss 0.037840, train error 0.60,  val loss 0.410321, percent error 9.90\n",
            "Epoch    94, train loss 0.037215, train error 0.60,  val loss 0.412107, percent error 9.90\n",
            "Epoch    95, train loss 0.037345, train error 0.57,  val loss 0.410423, percent error 9.90\n",
            "Epoch    96, train loss 0.038455, train error 0.68,  val loss 0.407667, percent error 9.70\n",
            "Epoch    97, train loss 0.037320, train error 0.65,  val loss 0.418284, percent error 9.70\n",
            "Epoch    98, train loss 0.037658, train error 0.68,  val loss 0.422716, percent error 9.60\n",
            "Epoch    99, train loss 0.036643, train error 0.55,  val loss 0.411866, percent error 9.90\n"
          ]
        },
        {
          "output_type": "display_data",
          "data": {
            "text/plain": [
              "<Figure size 640x480 with 1 Axes>"
            ],
            "image/png": "[encoded data removed]"
          },
          "metadata": {}
        }
      ]
    }
  ]
}